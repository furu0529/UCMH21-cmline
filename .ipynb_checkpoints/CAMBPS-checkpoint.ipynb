{
 "cells": [
  {
   "cell_type": "code",
   "execution_count": 4,
   "metadata": {},
   "outputs": [
    {
     "data": {
      "text/plain": [
       "CompletedProcess(args=['jupyter', 'nbconvert', '--to', 'python', 'CAMBPS.ipynb'], returncode=0)"
      ]
     },
     "execution_count": 4,
     "metadata": {},
     "output_type": "execute_result"
    }
   ],
   "source": [
    "import numpy as np\n",
    "import matplotlib.pyplot as plt\n",
    "import camb\n",
    "from camb import model, initialpower\n",
    "from scipy import integrate\n",
    "from scipy import special\n",
    "from scipy import signal, interpolate\n",
    "import itertools\n",
    "import constnumberfile as cn\n",
    "import subprocess\n",
    "subprocess.run(['jupyter', 'nbconvert', '--to', 'python', 'CAMBPS.ipynb'])"
   ]
  },
  {
   "cell_type": "code",
   "execution_count": 5,
   "metadata": {},
   "outputs": [
    {
     "name": "stdout",
     "output_type": "stream",
     "text": [
      "Note: redshifts have been re-sorted (earliest first)\n"
     ]
    }
   ],
   "source": [
    "#make the power spectrum\n",
    "pars = camb.CAMBparams()\n",
    "pars.set_cosmology(H0=70.4, ombh2=0.022, omch2=0.122, mnu=0.06, omk=0, tau=0.06)\n",
    "pars.InitPower.set_params(As=2e-9, ns=0.965, r=0);\n",
    "pars.set_matter_power(redshifts=np.linspace(0,40,101), kmax=1e2)\n",
    "\n",
    "#Linear spectra\n",
    "pars.NonLinear = model.NonLinear_none\n",
    "results = camb.get_results(pars)\n",
    "kh, z, pk = results.get_matter_power_spectrum(minkh=1e-4, maxkh=1e2, npoints = 100)\n",
    "s8 = np.array(results.get_sigma8())\n",
    "#print(results.get_sigma8())"
   ]
  },
  {
   "cell_type": "code",
   "execution_count": 6,
   "metadata": {},
   "outputs": [],
   "source": [
    "#make the interpolation (ndpk is nondimensional power spectrum.)\n",
    "ndpk=pk*(kh[None,:]**3/(2*np.pi**2))\n",
    "f2 = interpolate.interp2d(kh,z, ndpk)\n",
    "#define the power spectrum function\n",
    "def PSz(kin,zin):\n",
    "    matterpower=f2(kin,zin)\n",
    "    return matterpower"
   ]
  },
  {
   "cell_type": "code",
   "execution_count": null,
   "metadata": {},
   "outputs": [],
   "source": []
  }
 ],
 "metadata": {
  "kernelspec": {
   "display_name": "Python 3",
   "language": "python",
   "name": "python3"
  },
  "language_info": {
   "codemirror_mode": {
    "name": "ipython",
    "version": 3
   },
   "file_extension": ".py",
   "mimetype": "text/x-python",
   "name": "python",
   "nbconvert_exporter": "python",
   "pygments_lexer": "ipython3",
   "version": "3.7.3"
  }
 },
 "nbformat": 4,
 "nbformat_minor": 2
}
