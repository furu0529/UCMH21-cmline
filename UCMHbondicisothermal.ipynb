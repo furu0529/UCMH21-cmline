{
 "cells": [
  {
   "cell_type": "code",
   "execution_count": 1,
   "metadata": {},
   "outputs": [
    {
     "name": "stdout",
     "output_type": "stream",
     "text": [
      "(16, 1000)\n",
      "(41, 1000)\n",
      "0\n",
      "10\n",
      "(20, 16) (21,) (20, 16)\n"
     ]
    }
   ],
   "source": [
    "import numpy as np\n",
    "import matplotlib.pyplot as plt\n",
    "from joblib import Parallel, delayed\n",
    "import camb\n",
    "from camb import model, initialpower\n",
    "from matplotlib.font_manager import FontProperties\n",
    "from scipy import integrate\n",
    "from scipy import special\n",
    "from scipy import signal, interpolate\n",
    "from numba import jit\n",
    "import constnumberfile as cn\n",
    "import functionfileisothermalUCMH as ff\n",
    "import sys; sys.path.append('..')\n",
    "#import CAMBPS.PSfun as PS\n",
    "import subprocess\n",
    "import MHexample as MHR\n",
    "#subprocess.run(['jupyter', 'nbconvert', '--to', 'python', 'UCMH.ipynb'])"
   ]
  },
  {
   "cell_type": "code",
   "execution_count": 2,
   "metadata": {},
   "outputs": [],
   "source": [
    "zmin=10\n",
    "#zlist=np.arange(zmin,40+1,2)      \n",
    "zlist=np.array([20])\n",
    "#zclist=np.logspace(np.log10(20),np.log10(2000),100) \n",
    "zclist=np.linspace(20,4000,100) \n",
    "kmin=ff.kvir(zmin,1e4)\n",
    "#kmin=1e2\n",
    "kmax=5*1e3\n",
    "dk=30\n",
    "klist=np.logspace(np.log10(kmin),np.log10(kmax),dk)\n",
    "dxy=25\n",
    "J=7\n",
    "k01=np.logspace(-J,0,dxy)\n",
    "k02=np.logspace(0,-J,dxy)\n",
    "k05=np.hstack((-k02,[0],k01))\n",
    "k06=np.hstack(([0],k01))\n",
    "Am=np.logspace(2,8,300)\n",
    "etaran=np.logspace(0,np.log10(2.8),1000)"
   ]
  },
  {
   "cell_type": "code",
   "execution_count": 3,
   "metadata": {},
   "outputs": [],
   "source": [
    "pars = camb.CAMBparams()\n",
    "pars.set_cosmology(H0=70.4, ombh2=0.022, omch2=0.122, mnu=0.06, omk=0, tau=0.06)\n",
    "pars.InitPower.set_params(As=2e-9, ns=0.965, r=0);\n",
    "pars.set_matter_power(redshifts=zlist, kmax=1e3)\n",
    "\n",
    "#Linear spectra\n",
    "pars.NonLinear = model.NonLinear_none\n",
    "results = camb.get_results(pars)\n",
    "kh, z, pk = results.get_matter_power_spectrum(minkh=1e-2, maxkh=1e3, npoints = 100)\n",
    "s8 = np.array(results.get_sigma8())"
   ]
  },
  {
   "cell_type": "code",
   "execution_count": 4,
   "metadata": {},
   "outputs": [],
   "source": [
    "ndpk=pk*(kh[None,:]**3/(2*np.pi**2))\n",
    "k=kh*cn.h\n",
    "kh0=np.logspace(-3,5,1000)\n",
    "f1 = interpolate.interp1d(k, ndpk,fill_value=\"extrapolate\")\n",
    "y1 = f1(kh0)\n",
    "def PS(k):\n",
    "    y1=f1(k)\n",
    "    return y1"
   ]
  },
  {
   "cell_type": "code",
   "execution_count": 40,
   "metadata": {},
   "outputs": [],
   "source": [
    "@jit ('f8(f8[:],f8[:],f8[:],f8[:],f8[:],f8[:],f8)')\n",
    "def Tbave(klist,zclist,zlist,k05,k06,eta,B):\n",
    "    C=np.zeros((len(klist),len(zclist),len(zlist)))\n",
    "    Rs=np.zeros((len(klist),len(zclist),len(zlist)))\n",
    "    Rv=np.zeros((len(klist),len(zclist),len(zlist)))\n",
    "    Mv=np.zeros((len(klist),len(zclist),len(zlist)))\n",
    "    Tg0=np.zeros((len(klist),len(zclist),len(zlist)))\n",
    "    Rg0=np.zeros((len(klist),len(zclist),len(zlist)))\n",
    "    TGasave=np.zeros((len(klist),len(zclist),len(zlist)))\n",
    "    RGasave=np.zeros((len(klist),len(zclist),len(zlist)))\n",
    "    TBav=np.zeros((len(klist),len(zclist),len(zlist)))\n",
    "    Tauav=np.zeros((len(klist),len(zclist),len(zlist)))\n",
    "    TS=np.zeros((len(klist),len(zclist),len(zlist),len(k05),len(k05)))\n",
    "    Xc=np.zeros((len(klist),len(zclist),len(zlist),len(k05),len(k05)))\n",
    "    TBr=np.zeros((len(klist),len(zclist),len(zlist),len(k05)))\n",
    "    taucum=np.zeros((len(klist),len(zclist),len(zlist),len(k05),len(k05)))\n",
    "    rgas=np.zeros((len(klist),len(zclist),len(zlist),len(k06)))\n",
    "    tgas=np.zeros((len(klist),len(zclist),len(zlist),len(k06)))\n",
    "    for i,kk in enumerate(klist):\n",
    "        for k,z in enumerate(zlist):\n",
    "            eta=np.logspace(0,np.log10(20),1000)\n",
    "            for j,zc in enumerate(zclist):\n",
    "                if (zc>4000):\n",
    "                    zc=4000\n",
    "                c,rs,rv,mv=ff.ksUCMHprofiledata(z,zc,kk)\n",
    "                if (mv>ff.MJ(z)):\n",
    "                    tg00,rg00,etaM=ff.trg0(z,zc,c,rv,mv,30,eta,B)\n",
    "                    if(zc<400):\n",
    "                        eta=np.logspace(0,np.log10(20),1000)\n",
    "                    else:\n",
    "                        eta=np.linspace(etaM,etaM+1,500)\n",
    "                    #if(i%5==0 and j%5==0):\n",
    "                        #print(etaM,zc)\n",
    "                else:\n",
    "                    etaM=ff.trg0(z,zc,c,rv,mv,30,eta,B)[2]\n",
    "                    tg00,rg00=ff.bondic(kk,z,zc,etaM)\n",
    "                Tgasigm,Rgasigm=ff.TRgasigm(z)\n",
    "                Tgas0,Rgas0=ff.TRgas(k06,c,tg00,rg00,etaM)\n",
    "                Tgas=Tgas0+Tgasigm\n",
    "                Rgas=Rgas0#+Rgasigm\n",
    "                Tgasave,Rgasave=ff.TRgasave(Tgas,Rgas,k06)\n",
    "                Ts,xc=ff.Ts(k05,k05,z,c,k,0,tg00,rg00,etaM)\n",
    "                Tbr,tau=ff.Tbr(k05,k05,z,k,c,tg00,rg00,Ts,rv,etaM)\n",
    "                Tbav=ff.TbaveM(Tbr,k06)\n",
    "                tauav=ff.TbaveM(tau[:,len(k05)-1],k06)\n",
    "                C[i,j,k]=c\n",
    "                Rs[i,j,k]=rs\n",
    "                Rv[i,j,k]=rv\n",
    "                Mv[i,j,k]=mv\n",
    "                Tg0[i,j,k]=tg00+Tgasigm\n",
    "                rgas[i,j,k]=Rgas\n",
    "                tgas[i,j,k]=Tgas\n",
    "                Rg0[i,j,k]=rg00+Rgasigm\n",
    "                TGasave[i,j,k]=Tgasave\n",
    "                RGasave[i,j,k]=Rgasave\n",
    "                TS[i,j,k]=Ts\n",
    "                Xc[i,j,k]=xc\n",
    "                TBav[i,j,k]=Tbav\n",
    "                Tauav[i,j,k]=tauav\n",
    "                TBr[i,j,k]=Tbr\n",
    "                taucum[i,j,k]=tau\n",
    "        if(i%10==0):\n",
    "            print(i)\n",
    "    return C,Rs,Rv,Mv,Tg0,rgas,Rg0,TGasave,RGasave,TBav,Tauav,TS,Xc,TBr,taucum"
   ]
  },
  {
   "cell_type": "code",
   "execution_count": 41,
   "metadata": {},
   "outputs": [
    {
     "name": "stdout",
     "output_type": "stream",
     "text": [
      "0\n",
      "10\n",
      "20\n"
     ]
    }
   ],
   "source": [
    "C,Rs,Rv,Mv,Tg0,rgas,Rg0,TGasave,RGasave,TBav,Tauav,Ts,Xc,TBr,taucum=Tbave(klist,zclist,zlist,k05,k06,etaran,100)"
   ]
  },
  {
   "cell_type": "code",
   "execution_count": 42,
   "metadata": {},
   "outputs": [
    {
     "name": "stdout",
     "output_type": "stream",
     "text": [
      "0\n",
      "10\n",
      "20\n"
     ]
    }
   ],
   "source": [
    "dTb=np.zeros((len(klist),len(zlist),len(Am)))\n",
    "biasw=np.zeros((len(klist),len(zlist),len(Am)))\n",
    "dbias=np.zeros((len(klist),len(zclist),len(zlist),len(Am)))\n",
    "variUCMH=np.zeros((len(klist),len(zlist),len(Am)))\n",
    "ddtb=np.zeros((len(klist),len(zclist),len(zlist),len(Am)))\n",
    "@jit\n",
    "def signal(klist,zlist,zclist,rv,Tgasave,Tbave,Am):\n",
    "    for i,kk in enumerate(klist):\n",
    "        for k,z in enumerate(zlist):\n",
    "            DTb,DdTb=ff.diffTbave(z,zclist,rv[i,:,k],Tgasave[i,:,k],Tbave[i,:,k],Am,kk)\n",
    "            Dbias=ff.dbiasPT(Am,zclist)\n",
    "            biasW=ff.wbUCMH(Dbias,DdTb,zclist)\n",
    "            variU=Am[None,:]**(0.5)/(1+zclist)[:,None]\n",
    "            variUM=ff.wbUCMH(variU,DdTb,zclist)\n",
    "            dTb[i,k]=DTb\n",
    "            biasw[i,k]=biasW\n",
    "            dbias[i,:,k,:]=Dbias\n",
    "            ddtb[i,:,k,:]=DdTb\n",
    "            variUCMH[i,k]=variUM\n",
    "        if(i%10==0):\n",
    "            print(i)\n",
    "    return biasw,dTb,dbias,ddtb,variUCMH\n",
    "biasw,dTb,dbias,ddTb,variUCMH=signal(klist,zlist,zclist,Rv,TGasave,TBav,Am)"
   ]
  },
  {
   "cell_type": "code",
   "execution_count": 43,
   "metadata": {},
   "outputs": [
    {
     "name": "stdout",
     "output_type": "stream",
     "text": [
      "(30, 1, 300)\n"
     ]
    },
    {
     "data": {
      "text/plain": [
       "<matplotlib.legend.Legend at 0x1c2b455a90>"
      ]
     },
     "execution_count": 43,
     "metadata": {},
     "output_type": "execute_result"
    },
    {
     "data": {
      "image/png": "[encoded data removed]",
      "text/plain": [
       "<Figure size 432x288 with 1 Axes>"
      ]
     },
     "metadata": {
      "needs_background": "light"
     },
     "output_type": "display_data"
    }
   ],
   "source": [
    "print(dTb.shape)\n",
    "for i in range(3):\n",
    "    plt.loglog(klist,abs(dTb[:,0,100*i]),label='%s'%Am[100*i])\n",
    "#plt.axhline(y=IGMsignal[0,0,0,0])\n",
    "#plt.loglog(Am,abs(variTb[49,0,:,0]),linestyle='dotted',label=klist[49])\n",
    "\n",
    "#plt.xlim(1e2,1e8)\n",
    "plt.ylim(1e-15,1e-1)\n",
    "plt.legend()"
   ]
  },
  {
   "cell_type": "code",
   "execution_count": 44,
   "metadata": {},
   "outputs": [
    {
     "name": "stdout",
     "output_type": "stream",
     "text": [
      "(30, 100, 1, 300)\n",
      "[ 60.2020202  100.4040404  140.60606061 180.80808081 221.01010101\n",
      " 261.21212121 301.41414141 341.61616162 381.81818182]\n"
     ]
    },
    {
     "data": {
      "text/plain": [
       "[<matplotlib.lines.Line2D at 0x1c2be5d908>]"
      ]
     },
     "execution_count": 44,
     "metadata": {},
     "output_type": "execute_result"
    },
    {
     "data": {
      "image/png": "[encoded data removed]",
      "text/plain": [
       "<Figure size 432x288 with 1 Axes>"
      ]
     },
     "metadata": {
      "needs_background": "light"
     },
     "output_type": "display_data"
    }
   ],
   "source": [
    "print(ddTb.shape)\n",
    "print(zclist[1:10])\n",
    "for i in range(4):\n",
    "    plt.loglog(Am,abs(ff.dn(klist[10],Am,zclist))[i*10,:])\n",
    "A=integrate.simps(abs(ff.dn(klist[10],Am,zclist))*abs(ddTb[10,:,0,:]),zclist[:,None],axis=0)\n",
    "A0=integrate.simps(abs(ddTb[10,:,0,:]),zclist[:,None],axis=0)\n",
    "B=integrate.simps(abs(ff.dn(klist[10],Am,zclist)),zclist[:,None],axis=0)\n",
    "plt.loglog(Am,A/A0,linewidth=3,color='green')\n",
    "plt.loglog(Am,B,linewidth=3)\n",
    "plt.ylim(1e-10,1e10)\n",
    "plt.loglog(Am,abs(ff.dn(klist[10],Am,zclist))[49,:],linestyle='dashed')\n",
    "plt.loglog(Am,abs(biasw[10,0,:]),linewidth=2)"
   ]
  },
  {
   "cell_type": "code",
   "execution_count": 45,
   "metadata": {},
   "outputs": [],
   "source": [
    "kp=np.logspace(-3,3,200)\n",
    "Wcy=ff.Wcy(zlist,kp,cn.Dnu)\n",
    "varisigma=ff.variUCMH(zlist,kp,PS(kp).transpose(1,0),Wcy)\n",
    "variTb=(varisigma[None,:,None,:])*dTb[:,:,:,None]*biasw[:,:,:,None]\n",
    "UCMHsignal=abs(variTb)\n",
    "\n",
    "universalsignal=MHR.vari(zlist)\n",
    "#Tbaveigm=ff.Tbaveigm(zlist,1e-4)\n",
    "#Tbfraigm=Tbaveigm[:,None]*varisigma\n",
    "IGMsignal=abs(universalsignal)[None,:,None,:]*np.ones((UCMHsignal.shape))"
   ]
  },
  {
   "cell_type": "code",
   "execution_count": 46,
   "metadata": {},
   "outputs": [
    {
     "data": {
      "text/plain": [
       "<matplotlib.legend.Legend at 0x1c2d57b2e8>"
      ]
     },
     "execution_count": 46,
     "metadata": {},
     "output_type": "execute_result"
    },
    {
     "data": {
      "image/png": "[encoded data removed]",
      "text/plain": [
       "<Figure size 432x288 with 1 Axes>"
      ]
     },
     "metadata": {
      "needs_background": "light"
     },
     "output_type": "display_data"
    }
   ],
   "source": [
    "for i in range(3):\n",
    "    plt.loglog(Am,abs(variTb[i*9,0,:,0]),label='%s'%klist[i*9])\n",
    "plt.axhline(y=IGMsignal[0,0,0,0])\n",
    "#plt.loglog(Am,abs(variTb[49,0,:,0]),linestyle='dotted',label=klist[49])\n",
    "\n",
    "#plt.xlim(1e2,1e8)\n",
    "plt.ylim(1e-10,1e-1)\n",
    "plt.legend()"
   ]
  },
  {
   "cell_type": "code",
   "execution_count": 47,
   "metadata": {},
   "outputs": [
    {
     "name": "stdout",
     "output_type": "stream",
     "text": [
      "(30, 1, 300, 2)\n"
     ]
    }
   ],
   "source": [
    "print(UCMHsignal.shape)\n",
    "def up(klist,zlist,Am,UCMHsignal):\n",
    "    Amm=np.zeros(UCMHsignal.shape)\n",
    "    for i,kk in enumerate(klist):\n",
    "        for j,z in enumerate(zlist):\n",
    "            for k,am in enumerate(Am):\n",
    "                for l in range(2):\n",
    "                    if(UCMHsignal[i,j,k,l]-IGMsignal[i,j,k,l]>0):\n",
    "                        Amm[i,j,k,l]=am\n",
    "                    else:\n",
    "                        UCMHsignal[i,j,k,l]=0\n",
    "    return UCMHsignal,Amm\n",
    "sigmax,Ammax=up(klist,zlist,Am,UCMHsignal)"
   ]
  },
  {
   "cell_type": "code",
   "execution_count": 48,
   "metadata": {},
   "outputs": [],
   "source": [
    "def powertrans(k,Am):    \n",
    "    up=(cn.omrad/cn.om)**2*Am\n",
    "    Ck=4*np.sqrt(cn.omrad)*k*cn.c0/(np.sqrt(3)*cn.H0m*cn.om)\n",
    "    down=81*(-(7/2)+0.577+np.log(Ck))**2\n",
    "    Acurvature=up/down\n",
    "    return Acurvature"
   ]
  },
  {
   "cell_type": "code",
   "execution_count": 50,
   "metadata": {},
   "outputs": [
    {
     "data": {
      "text/plain": [
       "(80, 1000.0)"
      ]
     },
     "execution_count": 50,
     "metadata": {},
     "output_type": "execute_result"
    },
    {
     "data": {
      "image/png": "[encoded data removed]",
      "text/plain": [
       "<Figure size 432x288 with 1 Axes>"
      ]
     },
     "metadata": {
      "needs_background": "light"
     },
     "output_type": "display_data"
    }
   ],
   "source": [
    "for i in range(len(Am)):\n",
    "    plt.scatter(klist,abs(powertrans(klist[:,None,None,None],Ammax))[:,0,i,0],s=4,color='blue',alpha=0.7)\n",
    "plt.xscale('log')\n",
    "plt.yscale('log')\n",
    "plt.ylim(1e-10,1e-2)\n",
    "plt.xlim(80,1e3)\n",
    "#plt.plot(klist,Acupper)"
   ]
  },
  {
   "cell_type": "code",
   "execution_count": 31,
   "metadata": {},
   "outputs": [
    {
     "name": "stdout",
     "output_type": "stream",
     "text": [
      "(30, 1, 300, 2)\n",
      "(30, 1, 300, 2)\n"
     ]
    },
    {
     "data": {
      "text/plain": [
       "(80, 3000.0)"
      ]
     },
     "execution_count": 31,
     "metadata": {},
     "output_type": "execute_result"
    },
    {
     "data": {
      "image/png": "[encoded data removed]",
      "text/plain": [
       "<Figure size 432x288 with 1 Axes>"
      ]
     },
     "metadata": {
      "needs_background": "light"
     },
     "output_type": "display_data"
    }
   ],
   "source": [
    "Acmax=abs(powertrans(klist[:,None,None,None],Ammax))\n",
    "print(Acmax.shape)\n",
    "for m in range(len(Am)):\n",
    "    for l in range(len(klist)):\n",
    "        if(Acmax[l,0,m,0]==0):\n",
    "            Acmax[l:-1,0,m,0]=0\n",
    "        else:\n",
    "            continue\n",
    "print(Acmax.shape)\n",
    "for i in range(len(Am)):\n",
    "    plt.scatter(klist,Acmax[:,0,i,0],s=4,color='blue',alpha=0.3)\n",
    "plt.xscale('log')\n",
    "plt.yscale('log')\n",
    "plt.ylim(1e-10,1e-2)\n",
    "plt.xlim(80,3*1e3)"
   ]
  },
  {
   "cell_type": "code",
   "execution_count": 18,
   "metadata": {},
   "outputs": [
    {
     "name": "stdout",
     "output_type": "stream",
     "text": [
      "9\n"
     ]
    }
   ],
   "source": [
    "Acupper=np.zeros((len(klist)))\n",
    "for i,kk in enumerate(klist):\n",
    "    if(all(Acmax[i,0,:,0] == 0)):\n",
    "        print(i)\n",
    "        Acupper=Acupper[0:i]\n",
    "        klistz=klist[0:i]\n",
    "        break\n",
    "    else:\n",
    "        Acupper[i]=np.min((Acmax[i,0,:,0])[ Acmax[i,0,:,0] > 0])"
   ]
  },
  {
   "cell_type": "code",
   "execution_count": null,
   "metadata": {},
   "outputs": [],
   "source": [
    "a='isorela25'\n",
    "np.save(\"cszc/Aupzc%s.npy\"%a,Acupper)\n",
    "np.save(\"cszc/Acmax%s.npy\"%a,Acmax)\n",
    "np.save(\"cszc/UCMHsignal%s.npy\"%a,UCMHsignal)\n",
    "np.save(\"cszc/dTb%s.npy\"%a,dTb)\n",
    "np.save(\"cszc/klistr%s.npy\"%a,klist)\n",
    "np.save(\"cszc/klist%s.npy\"%a,klistz)\n",
    "np.save(\"cszc/zclist%s.npy\"%a,zclist)\n",
    "np.save(\"cszc/zlist%s.npy\"%a,zlist)\n",
    "np.save(\"cszc/Tbave%s.npy\"%a,TBav)\n",
    "np.save(\"cszc/Tauave%s.npy\"%a,Tauav)\n",
    "#np.save(\"cszc/Tbr%s.npy\"%a,TBr)\n",
    "np.save(\"cszc/taucum%s.npy\"%a,taucum)\n",
    "#np.save(\"cszc/Rs%s.npy\"%a,Rs)\n",
    "np.save(\"cszc/Rv%s.npy\"%a,Rv)\n",
    "np.save(\"cszc/Mv%s.npy\"%a,Mv)\n",
    "#np.save(\"cszc/Tg0%s.npy\"%a,Tg0)\n",
    "#np.save(\"cszc/Rg0%s.npy\"%a,Rg0)\n",
    "np.save(\"cszc/TGasave%s.npy\"%a,TGasave)\n",
    "np.save(\"cszc/RGasave%s.npy\"%a,RGasave)\n"
   ]
  },
  {
   "cell_type": "code",
   "execution_count": null,
   "metadata": {},
   "outputs": [],
   "source": []
  },
  {
   "cell_type": "code",
   "execution_count": null,
   "metadata": {},
   "outputs": [],
   "source": []
  },
  {
   "cell_type": "code",
   "execution_count": null,
   "metadata": {},
   "outputs": [],
   "source": []
  }
 ],
 "metadata": {
  "kernelspec": {
   "display_name": "Python 3",
   "language": "python",
   "name": "python3"
  },
  "language_info": {
   "codemirror_mode": {
    "name": "ipython",
    "version": 3
   },
   "file_extension": ".py",
   "mimetype": "text/x-python",
   "name": "python",
   "nbconvert_exporter": "python",
   "pygments_lexer": "ipython3",
   "version": "3.7.3"
  }
 },
 "nbformat": 4,
 "nbformat_minor": 2
}
