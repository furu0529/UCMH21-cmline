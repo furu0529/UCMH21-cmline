{
 "cells": [
  {
   "cell_type": "code",
   "execution_count": 4,
   "metadata": {},
   "outputs": [],
   "source": [
    "import numpy as np;import matplotlib.pyplot as plt;import camb;\n",
    "from camb import model, initialpower;from matplotlib.font_manager import FontProperties\n",
    "from scipy import integrate;from scipy import special;from scipy import signal, interpolate;\n",
    "from numba import jit;import constnumberfile as cn;import functionfile as ff\n",
    "import sys; sys.path.append('..');import subprocess;import itertools\n",
    "#subprocess.run(['jupyter', 'nbconvert', '--to', 'python', 'UCMH.ipynb'])"
   ]
  },
  {
   "cell_type": "code",
   "execution_count": null,
   "metadata": {},
   "outputs": [],
   "source": [
    "class param:\n",
    "    def __init__(self):\n",
    "        zmin=10\n",
    "        #zlist=np.arange(zmin,40+1,20)      \n",
    "        #zlist=np.linspace(10,30,100)\n",
    "        zlist=np.array([20])\n",
    "        #zclist=np.logspace(np.log10(50),np.log10(1e5),100) \n",
    "        kmin=ff.kvir(20,1e4)\n",
    "        #kmin=10\n",
    "        #kmin=1e2\n",
    "        kmax=900\n",
    "        dk=200\n",
    "        klist=np.logspace(np.log10(kmin),np.log10(kmax),dk)\n",
    "        #klist=np.array([300,700])\n",
    "        dxy=30\n",
    "        J=5\n",
    "        k01=np.logspace(-J,0,dxy)\n",
    "        k02=np.logspace(0,-J,dxy)\n",
    "        k05=np.hstack((-k02,[0],k01))\n",
    "        k06=np.hstack(([0],k01))\n",
    "        Ac=np.logspace(-2,-8,2000)\n",
    "        #Ac=np.array([1*1e-6,4*1e-6,4*1e-7])\n",
    "        Am=ff.powertrans(klist,Ac)\n",
    "        kp=np.logspace(-3,3,200)\n",
    "        Wcy=ff.Wcy(zlist,kp,cn.Dnu)\n",
    "        varisigma=ff.variUCMH(zlist,kp,PS(kp).transpose(1,0),Wcy)\n",
    "        def dzclist(zcmin):\n",
    "            zclist=np.logspace(np.log10(zcmin),np.log10(1e5),50)\n",
    "            return zclist"
   ]
  }
 ],
 "metadata": {
  "kernelspec": {
   "display_name": "Python 3",
   "language": "python",
   "name": "python3"
  },
  "language_info": {
   "codemirror_mode": {
    "name": "ipython",
    "version": 3
   },
   "file_extension": ".py",
   "mimetype": "text/x-python",
   "name": "python",
   "nbconvert_exporter": "python",
   "pygments_lexer": "ipython3",
   "version": "3.7.3"
  }
 },
 "nbformat": 4,
 "nbformat_minor": 4
}
