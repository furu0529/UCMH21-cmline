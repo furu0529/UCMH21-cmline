{
 "cells": [
  {
   "cell_type": "code",
   "execution_count": 1,
   "metadata": {},
   "outputs": [
    {
     "name": "stdout",
     "output_type": "stream",
     "text": [
      "Note: redshifts have been re-sorted (earliest first)\n"
     ]
    },
    {
     "data": {
      "text/plain": [
       "CompletedProcess(args=['jupyter', 'nbconvert', '--to', 'python', 'MHfunctionfile.ipynb'], returncode=0)"
      ]
     },
     "execution_count": 1,
     "metadata": {},
     "output_type": "execute_result"
    }
   ],
   "source": [
    "    import numpy as np\n",
    "    import matplotlib.pyplot as plt\n",
    "    import pandas as pd\n",
    "    import camb\n",
    "    from camb import model, initialpower\n",
    "    from matplotlib.font_manager import FontProperties\n",
    "    from scipy import integrate\n",
    "    from scipy import special\n",
    "    from scipy import signal, interpolate\n",
    "    from numba import jit\n",
    "    from memory_profiler import profile\n",
    "    import sys; sys.path.append('..')\n",
    "    import CAMBPS\n",
    "    import pandas as pd\n",
    "    import itertools\n",
    "    import constnumberfile as cn\n",
    "    import subprocess\n",
    "subprocess.run(['jupyter', 'nbconvert', '--to', 'python', 'MHfunctionfile.ipynb'])"
   ]
  },
  {
   "cell_type": "code",
   "execution_count": null,
   "metadata": {},
   "outputs": [],
   "source": []
  },
  {
   "cell_type": "code",
   "execution_count": 2,
   "metadata": {},
   "outputs": [],
   "source": [
    "def laterndim(x,n):\n",
    "    a=x.ndim\n",
    "    for i in range(n):\n",
    "        b=np.expand_dims(x,axis=i+a)\n",
    "        x=b\n",
    "    return x\n",
    "def forendim(x,n):\n",
    "    a=x.ndim\n",
    "    for i in range(n):\n",
    "        b=np.expand_dims(x,axis=0)\n",
    "        x=b\n",
    "    return x\n",
    "\n",
    "def rhob(z):\n",
    "    rho=cn.ob*(1+z)**3*cn.rc0\n",
    "    return rho\n",
    "def rhoDM(z):\n",
    "    rho=cn.odm*(1+z)**3*cn.rc0\n",
    "    return rho\n",
    "def rhoM(z):\n",
    "    rho=cn.om*(1+z)**3*cn.rc0\n",
    "    return rho\n",
    "def Tcmb(z):\n",
    "    tcmb=cn.tcmb0*(1+z)\n",
    "    return tcmb"
   ]
  },
  {
   "cell_type": "code",
   "execution_count": 3,
   "metadata": {},
   "outputs": [],
   "source": [
    "def Mvir(z,Tvir):\n",
    "    Mvir=1.98**(-1.5)*1e2*cn.om**(-0.5)*cn.h**(0.5)*Tvir**(1.5)*((1+z)/10)**(-1.5)\n",
    "    return Mvir\n",
    "\n",
    "def MJ(z):\n",
    "    MJ=5.73*1e3*((cn.om*cn.h**2)/0.15)**(-0.5)*((cn.ob*cn.h**2)/0.022)**(-0.6)*((1+z)/(10))**(1.5)\n",
    "    return MJ"
   ]
  },
  {
   "cell_type": "code",
   "execution_count": 4,
   "metadata": {},
   "outputs": [],
   "source": [
    "def mNFW(x):\n",
    "    return np.log(x)-(x/(1+x))\n",
    "def mNFWint(x):\n",
    "    return 1-(np.log(1+x)/x)\n",
    "def gaN(c):\n",
    "    return (2*(6*c**2+6*c+1)/(1+3*c)**2)-(c**2/((1+3*c)*(1+c)*mNFW(c)))\n",
    "def etaN(ga,c):\n",
    "    return ga**(-1)*(3*((1+c)/(1+3*c))+3*(ga-1)*(c/mNFW(c))*mNFWint(c))"
   ]
  },
  {
   "cell_type": "code",
   "execution_count": 5,
   "metadata": {},
   "outputs": [],
   "source": [
    "def TRgas(x,c,tg0,rg0):\n",
    "    ygg=1.0-((3.0*((gaN(c)-1.0)*c)*mNFWint(x+1e-15))/((etaN(gaN(c),c)*gaN(c)*mNFW(c))))\n",
    "    yg=ygg**(1.0/(gaN(c)-1.0))\n",
    "    return tg0*ygg,rg0*yg\n",
    "\n",
    "def TRgasave(Tgas,Rgas,x):\n",
    "    Tave=integrate.simps(x**2*Tgas,x)*3\n",
    "    Rave=integrate.simps(x**2*Rgas,x)*3\n",
    "    return Tave,Rave"
   ]
  },
  {
   "cell_type": "code",
   "execution_count": 6,
   "metadata": {},
   "outputs": [],
   "source": [
    "def TRgas2(x,y,c,tg0,rg0):\n",
    "    r=np.sqrt(x[:,None]**2+y[None,:]**2)*c+1e-15\n",
    "    ygg=1.0-((3.0*((gaN(c)-1.0)*c)*mNFWint(r))/(etaN(gaN(c),c)*gaN(c)*mNFW(c)))\n",
    "    yg=ygg**(1.0/(gaN(c)-1.0))\n",
    "    return tg0*ygg,rg0*yg"
   ]
  },
  {
   "cell_type": "code",
   "execution_count": 7,
   "metadata": {},
   "outputs": [],
   "source": [
    "#プレスシェヒター理論\n",
    "def tophat(M):\n",
    "    k=np.logspace(-4,4,500)\n",
    "    R=(3*M*cn.mo/(4*np.pi*cn.om*cn.rc0))**(1/3)/cn.Mpc\n",
    "    kR=k[None,:]*R[:,None]\n",
    "    topwin=3*(np.sin(kR)-kR*np.cos(kR))/(kR)**3\n",
    "    return topwin,k\n",
    "def varips(M,zlist):\n",
    "    topwin,k=tophat(M)\n",
    "    dvari=CAMBPS.PSz(k,zlist)[None,:,:]*topwin[:,None,:]**2/k[None,None,:]\n",
    "    varisum2=integrate.simps(dvari,k[None,None,:],axis=2)\n",
    "    vari=varisum2**(0.5)\n",
    "    return vari\n",
    "def PSMF(M,zlist):\n",
    "    sigma=varips(M,zlist)\n",
    "    dlnM=np.diff(np.log(sigma),axis=0)/np.diff(np.log(M))[:,None]\n",
    "    nuc=cn.deltac/sigma[0:len(M)-1]\n",
    "    print(nuc.shape,M.shape,dlnM.shape)\n",
    "    dndm=-np.sqrt(2/np.pi)*(cn.rc0*cn.om*1.47*1e28*1e9/M[0:len(M)-1,None]**2)*dlnM*nuc*np.exp(-nuc**2/2)\n",
    "    return dndm\n",
    "\n",
    "def nueff(z,Tgasave):\n",
    "    nu=(cn.nu0/(cn.c0*(1+z)))*np.sqrt(2*np.pi*cn.kb*Tgasave/cn.mp)\n",
    "    return nu\n",
    "\n",
    "def diffTb(z,Tbave):\n",
    "    deltaTb=(Tbave/(1+z))-cn.tcmb0\n",
    "    return deltaTb\n",
    "\n",
    "#background radiation\n",
    "def diffTbave(z,rv,Tgasave,Tbave,dn_dm,M):\n",
    "    Const=(cn.c0*(1+z)**4/(cn.nu0*cn.H0m*(1+z)**(1.5)))\n",
    "    Ahalo=np.pi*rv**2\n",
    "    dim3=nueff(z,Tgasave)*diffTb(z,Tbave)*Ahalo\n",
    "    ddTb=Const*dn_dm*dim3\n",
    "    dTb=integrate.simps(ddTb,M)\n",
    "    return dTb,ddTb\n",
    "#bias\n",
    "def dbiasPS(sigmaMH):\n",
    "    deltac=1.68\n",
    "    nu=deltac/sigmaMH\n",
    "    dbias=1+(nu**2-1)/deltac\n",
    "    return dbias \n",
    "\n",
    "def wbMH(bias,ddTb,M):\n",
    "    bdTb=integrate.simps(bias*ddTb,M)\n",
    "    dTb=integrate.simps(ddTb,M)\n",
    "    beta=bdTb/dTb\n",
    "    return beta"
   ]
  },
  {
   "cell_type": "code",
   "execution_count": 8,
   "metadata": {},
   "outputs": [],
   "source": [
    "def Wcy(z,k,Dnu):\n",
    "    Rcylinder=cn.Dthetaradian[None,:]*(1+z)[:,None]*cn.Da(z)[:,None]/2 #Mpc\n",
    "    Lcylinder=(cn.c0/cn.H0m)*(Dnu*1e6/cn.nu0)*(1+z)**(0.5) #Mpc\n",
    "    xcy=np.linspace(1e-15,1-1e-15,1500)\n",
    "    SBv=k[:,None,None,None]*Rcylinder[None,:,:,None]*(1-xcy[None,None,None,:]**2)**(0.5)\n",
    "    Jv=special.jv(1,SBv)\n",
    "    winup=np.sin(k[:,None,None,None]*Lcylinder[None,:,None,None]*xcy[None,None,None,:]/2)**2*Jv**2\n",
    "    winunder=xcy**2*(1-xcy**2)\n",
    "    win=winup/winunder[None,None,None,:]\n",
    "    winsum=integrate.simps(win,xcy[None,None,None,:],axis=3)\n",
    "    winsum0=(16/(Rcylinder[None,:,:]**2*Lcylinder[None,:,None]**2*k[:,None,None]**4))*winsum\n",
    "    return winsum0\n",
    "\n",
    "def varidensity(z,k,matterpower,Wcy):\n",
    "    dsigma2M=(matterpower[:,:,None]*Wcy)/k[:,None,None]\n",
    "    sigma2M=integrate.simps(dsigma2M,k[:,None,None],axis=0)\n",
    "    sigmaM=sigma2M**(0.5)\n",
    "    return sigmaM\n",
    "\n"
   ]
  },
  {
   "cell_type": "code",
   "execution_count": 9,
   "metadata": {},
   "outputs": [],
   "source": [
    "def Tbaveigm(z,xHI):\n",
    "    zre=200\n",
    "    Tgas=cn.tcmb0*(1+zre)*((1+z)/(1+zre))**2\n",
    "    rgas=cn.ob*(1+z)**3*cn.rc0\n",
    "    nHI=(1-cn.YY)*(rgas/cn.mp)\n",
    "    cHI=3.1*1e-17*Tgas**(0.357)*np.exp(-32/Tgas)\n",
    "    ce=10**(-9.607+0.5*np.log10(Tgas)*np.exp(-np.log10(Tgas)/1800))*1e-6\n",
    "    xc=(cn.tf/(cn.A10*cn.tcmb0*(1+z)))*nHI*((1-xHI)*cHI+xHI*ce+xHI*3.2*cHI)\n",
    "    Ts=(((cn.tcmb0*(1+z))**(-1)+xc*Tgas**(-1))/(1+xc))**(-1)\n",
    "    Tbaveigm=9*(1-xHI)*(1+z)**(0.5)*1e-3*(1-(cn.tcmb0*(1+z))/Ts)\n",
    "    return Tbaveigm"
   ]
  },
  {
   "cell_type": "code",
   "execution_count": 10,
   "metadata": {},
   "outputs": [],
   "source": [
    "@jit ('f8(f8[:],f8[:],f8[:],f8[:],f8[:],f8)')\n",
    "def TBave(dMlist,Mlist,zlist,k05,k06,xHI):\n",
    "    C=np.zeros((len(Mlist),len(zlist)))\n",
    "    Rs=np.zeros((len(Mlist),len(zlist)))\n",
    "    Rv=np.zeros((len(Mlist),len(zlist)))\n",
    "    Mv=np.zeros((len(Mlist),len(zlist)))\n",
    "    TGasave=np.zeros((len(Mlist),len(zlist)))\n",
    "    TBav=np.zeros((len(Mlist),len(zlist)))\n",
    "    for i,mv in enumerate(Mlist):\n",
    "        for k,z in enumerate(zlist):\n",
    "            rv=(((3*mv*cn.mo/(200*cn.om*4*np.pi*cn.rc0))**(1/3))*(1/(1+z)))*(1/cn.Mpc)\n",
    "            zc=z \n",
    "            rs=((1+zc)*rv/10)*(1e14/mv)**(-0.20) \n",
    "            c=rv/rs\n",
    "            MnDM=4*np.pi*rs**(3.0)*mNFW(c)\n",
    "            ros=mv/MnDM\n",
    "            tg0=(cn.G*cn.mu*mv*cn.mo*cn.mp*etaN(gaN(c),c))/(3*rv*cn.Mpc*cn.kb)\n",
    "            FF=(3.0*(gaN(c)-1.0)*c)/(etaN(gaN(c),c)*gaN(c)*mNFW(c))\n",
    "            x=np.linspace(1e-5,c,4000)\n",
    "            ygas_x=(1.0-FF*mNFWint(x))**(1.0/(gaN(c)-1))*x**(2.0)\n",
    "            mgas=integrate.simps(ygas_x , x)\n",
    "            rg0=(cn.ob*ros*mNFW(c))/(cn.om*mgas*cn.kgm_MMpc)\n",
    "            Tgas,Rgas=TRgas(k06,c,tg0,rg0)\n",
    "            Tgasave,Rgasave=TRgasave(Tgas,Rgas,k06)\n",
    "            Tgas,Rgas=TRgas2(k05,k05,c,tg0,rg0)\n",
    "            nHI=(1-cn.YY)*(Rgas/cn.mp)\n",
    "            cHI=np.zeros((len(k05),len(k05)))\n",
    "            for l,x in enumerate(k05):\n",
    "                for m,y in enumerate(k05):\n",
    "                    if (Tgas[l,m]<1000):\n",
    "                        cHI[l,m]=3.1*1e-17*Tgas[l,m]**(0.357)*np.exp(-32/Tgas[l,m])\n",
    "                    else:\n",
    "                        cHI[l,m]=4*3.1*1e-17*(Tgas[l,m]/3)**(0.357)*np.exp(-32/(Tgas[l,m]/3))\n",
    "            ce=10**(-9.607+0.5*np.log10(Tgas)*np.exp(-np.log10(Tgas)/1800))*1e-6\n",
    "            xc=(cn.tf/(cn.A10*cn.tcmb0*(1+z)))*nHI*((1-xHI)*cHI+xHI*ce+3.2*xHI*cHI)\n",
    "            TS=(((cn.tcmb0*(1+z))**(-1)+xc*Tgas**(-1))/(1+xc))**(-1)\n",
    "            rv0=rv*cn.Mpc\n",
    "            Tgas,Rgas=TRgas2(k05,k05,c,tg0,rg0)\n",
    "            phinu=(cn.c0/cn.nu0)*np.sqrt(cn.mp/(2*np.pi*cn.kb*Tgas))\n",
    "            nHI=(1-cn.YY)*(Rgas/cn.mp)\n",
    "            TBr=np.zeros((len(k05)))\n",
    "            for n,w in enumerate(k05):\n",
    "                tau=cn.tau0*rv0*np.sqrt(1-w**2)*nHI[n,:]*phinu[n,:]/TS[n,:]\n",
    "                taucum=integrate.cumtrapz(tau , k05 ,axis=0, initial=0)\n",
    "                Tb01=cn.tau0*rv0*nHI[n,:]*phinu[n,:]*np.exp(-taucum)\n",
    "                Tb0=Tb01*np.sqrt(1-w**2)\n",
    "                TBr[n]=Tcmb(z)*np.exp(-taucum[len(k05)-1])+integrate.simps(Tb0,k05)\n",
    "            Tbh=TBr[len(k06)-1:len(TBr)]\n",
    "            Tbav=integrate.simps(k06*Tbh,k06)*2\n",
    "            C[i,k]=c\n",
    "            Rs[i,k]=rs\n",
    "            Rv[i,k]=rv\n",
    "            Mv[i,k]=mv\n",
    "            TGasave[i,k]=Tgasave\n",
    "            TBav[i,k]=Tbav\n",
    "        if(i%10==0):\n",
    "            print(i)\n",
    "    dndm=abs(PSMF(dMlist,zlist))\n",
    "    dTB1=np.zeros((len(zlist)))\n",
    "    biasw=np.zeros((len(zlist)))\n",
    "    for k,z in enumerate(zlist):\n",
    "        DTb,DdTb=diffTbave(z,Rv[:,k],TGasave[:,k],TBav[:,k],dndm[:,k],Mlist)\n",
    "        Dbias=dbiasPS(varips(Mlist,zlist))\n",
    "        biasW=wbMH(Dbias[:,k],DdTb,Mlist)\n",
    "        dTB1[k]=DTb\n",
    "        biasw[k]=biasW\n",
    "    return C,Rs,Rv,Mv,Tgasave,TBav,dTB1,biasw"
   ]
  },
  {
   "cell_type": "code",
   "execution_count": 11,
   "metadata": {},
   "outputs": [],
   "source": [
    "def Noise(Aff,Dtheta,Dnu,tobs,z):\n",
    "    Noiseflu=7.36*(1e5/Aff)*(1/Dtheta)**(2)*(1/Dnu)**(1/2)*(100/tobs)**(1/2)*(1+z)**(4.6)*1e-6\n",
    "    return Noiseflu"
   ]
  },
  {
   "cell_type": "code",
   "execution_count": null,
   "metadata": {},
   "outputs": [],
   "source": []
  },
  {
   "cell_type": "code",
   "execution_count": null,
   "metadata": {},
   "outputs": [],
   "source": []
  }
 ],
 "metadata": {
  "kernelspec": {
   "display_name": "Python 3",
   "language": "python",
   "name": "python3"
  },
  "language_info": {
   "codemirror_mode": {
    "name": "ipython",
    "version": 3
   },
   "file_extension": ".py",
   "mimetype": "text/x-python",
   "name": "python",
   "nbconvert_exporter": "python",
   "pygments_lexer": "ipython3",
   "version": "3.8.6"
  }
 },
 "nbformat": 4,
 "nbformat_minor": 2
}
